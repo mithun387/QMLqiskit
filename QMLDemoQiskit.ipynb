{
 "cells": [
  {
   "cell_type": "code",
   "execution_count": 1,
   "id": "44da861f",
   "metadata": {},
   "outputs": [
    {
     "name": "stdout",
     "output_type": "stream",
     "text": [
      "helllo\n"
     ]
    }
   ],
   "source": [
    "print(\"helllo\")"
   ]
  },
  {
   "cell_type": "code",
   "execution_count": null,
   "id": "289c4037",
   "metadata": {},
   "outputs": [
    {
     "name": "stdout",
     "output_type": "stream",
     "text": [
      "value of a is  270\n",
      "3\n",
      "[0.06085806194501846, 0.06085806194501846, 0.06085806194501846, 0.06085806194501846, 0.06085806194501846, 0.06085806194501846, 0, 0]\n"
     ]
    },
    {
     "ename": "QiskitError",
     "evalue": "'Sum of amplitudes-squared is not 1, but 0.14907119849998596.'",
     "output_type": "error",
     "traceback": [
      "\u001b[1;31m---------------------------------------------------------------------------\u001b[0m",
      "\u001b[1;31mQiskitError\u001b[0m                               Traceback (most recent call last)",
      "Cell \u001b[1;32mIn[10], line 33\u001b[0m\n\u001b[0;32m     30\u001b[0m qc\u001b[38;5;241m=\u001b[39mQuantumCircuit(n_qubits)\n\u001b[0;32m     31\u001b[0m \u001b[38;5;28mprint\u001b[39m(desired_state)\n\u001b[1;32m---> 33\u001b[0m \u001b[43mqc\u001b[49m\u001b[38;5;241;43m.\u001b[39;49m\u001b[43minitialize\u001b[49m\u001b[43m(\u001b[49m\u001b[43mdesired_state\u001b[49m\u001b[43m,\u001b[49m\u001b[43malist\u001b[49m\u001b[43m)\u001b[49m\n\u001b[0;32m     34\u001b[0m \u001b[38;5;28mprint\u001b[39m(\u001b[38;5;124m\"\u001b[39m\u001b[38;5;124mlengt is \u001b[39m\u001b[38;5;124m\"\u001b[39m,\u001b[38;5;28mlen\u001b[39m(desired_state))\n\u001b[0;32m     35\u001b[0m qc\u001b[38;5;241m.\u001b[39mdecompose(reps\u001b[38;5;241m=\u001b[39m\u001b[38;5;241m7\u001b[39m)\u001b[38;5;241m.\u001b[39mdraw(output\u001b[38;5;241m=\u001b[39m\u001b[38;5;124m\"\u001b[39m\u001b[38;5;124mmpl\u001b[39m\u001b[38;5;124m\"\u001b[39m)\n",
      "File \u001b[1;32m~\\Lib\\site-packages\\qiskit\\circuit\\quantumcircuit.py:6568\u001b[0m, in \u001b[0;36mQuantumCircuit.initialize\u001b[1;34m(self, params, qubits, normalize)\u001b[0m\n\u001b[0;32m   6564\u001b[0m     qubits \u001b[38;5;241m=\u001b[39m [qubits]\n\u001b[0;32m   6566\u001b[0m num_qubits \u001b[38;5;241m=\u001b[39m \u001b[38;5;28mlen\u001b[39m(qubits) \u001b[38;5;28;01mif\u001b[39;00m \u001b[38;5;28misinstance\u001b[39m(params, \u001b[38;5;28mint\u001b[39m) \u001b[38;5;28;01melse\u001b[39;00m \u001b[38;5;28;01mNone\u001b[39;00m\n\u001b[1;32m-> 6568\u001b[0m \u001b[38;5;28;01mreturn\u001b[39;00m \u001b[38;5;28mself\u001b[39m\u001b[38;5;241m.\u001b[39mappend(\u001b[43mInitialize\u001b[49m\u001b[43m(\u001b[49m\u001b[43mparams\u001b[49m\u001b[43m,\u001b[49m\u001b[43m \u001b[49m\u001b[43mnum_qubits\u001b[49m\u001b[43m,\u001b[49m\u001b[43m \u001b[49m\u001b[43mnormalize\u001b[49m\u001b[43m)\u001b[49m, qubits, copy\u001b[38;5;241m=\u001b[39m\u001b[38;5;28;01mFalse\u001b[39;00m)\n",
      "File \u001b[1;32m~\\Lib\\site-packages\\qiskit\\circuit\\library\\data_preparation\\initializer.py:75\u001b[0m, in \u001b[0;36mInitialize.__init__\u001b[1;34m(self, params, num_qubits, normalize)\u001b[0m\n\u001b[0;32m     50\u001b[0m \u001b[38;5;28;01mdef\u001b[39;00m \u001b[38;5;21m__init__\u001b[39m(\n\u001b[0;32m     51\u001b[0m     \u001b[38;5;28mself\u001b[39m,\n\u001b[0;32m     52\u001b[0m     params: Statevector \u001b[38;5;241m|\u001b[39m Sequence[\u001b[38;5;28mcomplex\u001b[39m] \u001b[38;5;241m|\u001b[39m \u001b[38;5;28mstr\u001b[39m \u001b[38;5;241m|\u001b[39m \u001b[38;5;28mint\u001b[39m,\n\u001b[0;32m     53\u001b[0m     num_qubits: \u001b[38;5;28mint\u001b[39m \u001b[38;5;241m|\u001b[39m \u001b[38;5;28;01mNone\u001b[39;00m \u001b[38;5;241m=\u001b[39m \u001b[38;5;28;01mNone\u001b[39;00m,\n\u001b[0;32m     54\u001b[0m     normalize: \u001b[38;5;28mbool\u001b[39m \u001b[38;5;241m=\u001b[39m \u001b[38;5;28;01mFalse\u001b[39;00m,\n\u001b[0;32m     55\u001b[0m ) \u001b[38;5;241m-\u001b[39m\u001b[38;5;241m>\u001b[39m \u001b[38;5;28;01mNone\u001b[39;00m:\n\u001b[0;32m     56\u001b[0m \u001b[38;5;250m    \u001b[39m\u001b[38;5;124mr\u001b[39m\u001b[38;5;124;03m\"\"\"\u001b[39;00m\n\u001b[0;32m     57\u001b[0m \u001b[38;5;124;03m    Args:\u001b[39;00m\n\u001b[0;32m     58\u001b[0m \u001b[38;5;124;03m        params: The state to initialize to, can be either of the following.\u001b[39;00m\n\u001b[1;32m   (...)\u001b[0m\n\u001b[0;32m     73\u001b[0m \u001b[38;5;124;03m        normalize: Whether to normalize an input array to a unit vector.\u001b[39;00m\n\u001b[0;32m     74\u001b[0m \u001b[38;5;124;03m    \"\"\"\u001b[39;00m\n\u001b[1;32m---> 75\u001b[0m     \u001b[38;5;28mself\u001b[39m\u001b[38;5;241m.\u001b[39m_stateprep \u001b[38;5;241m=\u001b[39m \u001b[43mStatePreparation\u001b[49m\u001b[43m(\u001b[49m\u001b[43mparams\u001b[49m\u001b[43m,\u001b[49m\u001b[43m \u001b[49m\u001b[43mnum_qubits\u001b[49m\u001b[43m,\u001b[49m\u001b[43m \u001b[49m\u001b[43mnormalize\u001b[49m\u001b[38;5;241;43m=\u001b[39;49m\u001b[43mnormalize\u001b[49m\u001b[43m)\u001b[49m\n\u001b[0;32m     77\u001b[0m     \u001b[38;5;28msuper\u001b[39m()\u001b[38;5;241m.\u001b[39m\u001b[38;5;21m__init__\u001b[39m(\u001b[38;5;124m\"\u001b[39m\u001b[38;5;124minitialize\u001b[39m\u001b[38;5;124m\"\u001b[39m, \u001b[38;5;28mself\u001b[39m\u001b[38;5;241m.\u001b[39m_stateprep\u001b[38;5;241m.\u001b[39mnum_qubits, \u001b[38;5;241m0\u001b[39m, \u001b[38;5;28mself\u001b[39m\u001b[38;5;241m.\u001b[39m_stateprep\u001b[38;5;241m.\u001b[39mparams)\n",
      "File \u001b[1;32m~\\Lib\\site-packages\\qiskit\\circuit\\library\\data_preparation\\state_preparation.py:109\u001b[0m, in \u001b[0;36mStatePreparation.__init__\u001b[1;34m(self, params, num_qubits, inverse, label, normalize)\u001b[0m\n\u001b[0;32m    107\u001b[0m         params \u001b[38;5;241m=\u001b[39m np\u001b[38;5;241m.\u001b[39marray(params, dtype\u001b[38;5;241m=\u001b[39mnp\u001b[38;5;241m.\u001b[39mcomplex128) \u001b[38;5;241m/\u001b[39m norm\n\u001b[0;32m    108\u001b[0m     \u001b[38;5;28;01melif\u001b[39;00m \u001b[38;5;129;01mnot\u001b[39;00m math\u001b[38;5;241m.\u001b[39misclose(norm, \u001b[38;5;241m1.0\u001b[39m, abs_tol\u001b[38;5;241m=\u001b[39m_EPS):\n\u001b[1;32m--> 109\u001b[0m         \u001b[38;5;28;01mraise\u001b[39;00m QiskitError(\u001b[38;5;124mf\u001b[39m\u001b[38;5;124m\"\u001b[39m\u001b[38;5;124mSum of amplitudes-squared is not 1, but \u001b[39m\u001b[38;5;132;01m{\u001b[39;00mnorm\u001b[38;5;132;01m}\u001b[39;00m\u001b[38;5;124m.\u001b[39m\u001b[38;5;124m\"\u001b[39m)\n\u001b[0;32m    111\u001b[0m num_qubits \u001b[38;5;241m=\u001b[39m \u001b[38;5;28mself\u001b[39m\u001b[38;5;241m.\u001b[39m_get_num_qubits(num_qubits, params)\n\u001b[0;32m    112\u001b[0m params \u001b[38;5;241m=\u001b[39m [params] \u001b[38;5;28;01mif\u001b[39;00m \u001b[38;5;28misinstance\u001b[39m(params, \u001b[38;5;28mint\u001b[39m) \u001b[38;5;28;01melse\u001b[39;00m params\n",
      "\u001b[1;31mQiskitError\u001b[0m: 'Sum of amplitudes-squared is not 1, but 0.14907119849998596.'"
     ]
    }
   ],
   "source": [
    "import numpy as np\n",
    "from qiskit import QuantumCircuit\n",
    "import math\n",
    "\n",
    "x=[9,8,6,2,9,2]\n",
    "a=0\n",
    "for i in range((len(x))):\n",
    "    a+=x[i]*x[i]\n",
    "print(\"value of a is \",a)\n",
    "k=1\n",
    "n_qubits=1\n",
    "while k < len(x):\n",
    "    \n",
    "    k = 2**n_qubits\n",
    "    if k > len(x):\n",
    "        break\n",
    "    \n",
    "    n_qubits+=1\n",
    "    \n",
    "\n",
    "print(n_qubits)\n",
    "desired_state=[]\n",
    "alist=[]\n",
    "for i in range(2**n_qubits):\n",
    "    if i < len(x):\n",
    "        desired_state.append(1/math.sqrt(a)(x[i]))\n",
    "    else:\n",
    "        desired_state.append(0)\n",
    "    alist.append(i)\n",
    "qc=QuantumCircuit(n_qubits)\n",
    "print(desired_state)\n",
    "\n",
    "qc.initialize(desired_state,alist)\n",
    "print(\"lengt is \",len(desired_state))\n",
    "qc.decompose(reps=7).draw(output=\"mpl\")"
   ]
  },
  {
   "cell_type": "code",
   "execution_count": null,
   "id": "19b73f81",
   "metadata": {},
   "outputs": [],
   "source": []
  }
 ],
 "metadata": {
  "kernelspec": {
   "display_name": "Python 3 (ipykernel)",
   "language": "python",
   "name": "python3"
  },
  "language_info": {
   "codemirror_mode": {
    "name": "ipython",
    "version": 3
   },
   "file_extension": ".py",
   "mimetype": "text/x-python",
   "name": "python",
   "nbconvert_exporter": "python",
   "pygments_lexer": "ipython3",
   "version": "3.11.5"
  }
 },
 "nbformat": 4,
 "nbformat_minor": 5
}

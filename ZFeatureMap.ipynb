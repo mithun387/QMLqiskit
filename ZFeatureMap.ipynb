{
 "cells": [
  {
   "cell_type": "code",
   "execution_count": null,
   "id": "0385177d",
   "metadata": {},
   "outputs": [],
   "source": [
    "from qiskit import QuantumCircuit\n",
    "from qiskit.circuit.library import z_feature_map\n",
    "\n",
    "zfm=z_feature_map(feature_dimension=2,reps=3)\n",
    "zfm=zfm.assign_parameters([ bn (1/2)*math.pi/2,(1/2)*math.pi/3)\n"
   ]
  },
  {
   "cell_type": "code",
   "execution_count": null,
   "id": "d72ad4e3",
   "metadata": {},
   "outputs": [],
   "source": []
  }
 ],
 "metadata": {
  "kernelspec": {
   "display_name": "Python 3 (ipykernel)",
   "language": "python",
   "name": "python3"
  }
 },
 "nbformat": 4,
 "nbformat_minor": 5
}
